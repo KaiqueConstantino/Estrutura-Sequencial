{
 "cells": [
  {
   "cell_type": "code",
   "execution_count": 4,
   "metadata": {},
   "outputs": [],
   "source": [
    "import numpy as np\n",
    "import math as mth \n"
   ]
  },
  {
   "cell_type": "code",
   "execution_count": null,
   "metadata": {},
   "outputs": [],
   "source": [
    "\"Faça um Programa que mostre a mensagem Alo mundo na tela.\"\n",
    "print(\"alo mundo\")"
   ]
  },
  {
   "cell_type": "code",
   "execution_count": null,
   "metadata": {},
   "outputs": [],
   "source": [
    "#Faça um Programa que peça um número e então mostre a mensagem O número informado foi [número].\n",
    "\n",
    "numero = int(input(\"Informe o Número\"))\n",
    "print(f'O número informado foi {numero} ')"
   ]
  },
  {
   "cell_type": "code",
   "execution_count": null,
   "metadata": {},
   "outputs": [],
   "source": [
    "#Faça um Programa que peça dois números e imprima a soma.\n",
    "numero1 = int(input('Qual o primeiro número?'))\n",
    "numero2 = int(input('Qual o segundo número?'))\n",
    "print(numero1 + numero2)"
   ]
  },
  {
   "cell_type": "code",
   "execution_count": null,
   "metadata": {},
   "outputs": [],
   "source": [
    "#Faça um Programa que peça as 4 notas bimestrais e mostre a média\n",
    "nota1 = float(input('Qual a primeira nota?'))\n",
    "nota2 = float(input('Qual a segunda nota?'))\n",
    "nota3 = float(input('Qual a terceira nota?'))\n",
    "nota4 = float(input('Qual a quarta nota'))\n",
    "\n",
    "media = (nota1+ nota2+ nota3 + nota4) /4\n",
    "\n",
    "print(f'A média do aluno é {media}')\n",
    "\n"
   ]
  },
  {
   "cell_type": "code",
   "execution_count": null,
   "metadata": {},
   "outputs": [],
   "source": [
    "#Faça um Programa que converta metros para centímetros.\n",
    "\n",
    "medida = float(input('Qual é a medida em metros?'))\n",
    "centimetros = medida * 100 \n",
    "print(f'A medida de metros para centimetros é: {centimetros} cm')"
   ]
  },
  {
   "cell_type": "code",
   "execution_count": null,
   "metadata": {},
   "outputs": [],
   "source": [
    "#Faça um Programa que peça o raio de um círculo, calcule e mostre sua área.\n",
    "\n",
    "raio = float(input('Qual o raio do Circulo?'))\n",
    "area = np.pi * raio**2\n",
    "\n",
    "print(f'A área do circulo é igual a: {area}') # Opção 1\n",
    "\n",
    "print('A área do círculo é igual a: {:.2f}'.format(area)) # Opção 2\n",
    "\n"
   ]
  },
  {
   "cell_type": "code",
   "execution_count": null,
   "metadata": {},
   "outputs": [],
   "source": [
    "#Faça um Programa que calcule a área de um quadrado, em seguida mostre o dobro desta área para o usuário.\n",
    "\n",
    "lados = int(input('Qual a medida dos lados do Quadrado?'))\n",
    "\n",
    "area_quadrado = lados**2\n",
    "\n",
    "print(area_quadrado * 2)"
   ]
  },
  {
   "cell_type": "code",
   "execution_count": null,
   "metadata": {},
   "outputs": [],
   "source": [
    "#Faça um Programa que pergunte quanto você ganha por hora e o número de horas trabalhadas no mês. Calcule e mostre o total do seu salário no referido mês\n",
    "\n",
    "ganho = float(input('Quanto recebe por hora ? '))\n",
    "horas = int(input('Quantas horas trabalhadas no mês'))\n",
    "\n",
    "\n",
    "salario = horas * ganho\n",
    "\n",
    "print(f'O salário do funcionário será de: R${salario}')\n",
    "\n"
   ]
  },
  {
   "cell_type": "code",
   "execution_count": null,
   "metadata": {},
   "outputs": [],
   "source": [
    "#Faça um Programa que peça a temperatura em graus Fahrenheit, transforme e mostre a temperatura em graus Celsius.\n",
    "#C = 5 * ((F-32) / 9).\n",
    "\n",
    "\n",
    "farenheit = float(input('Temperatura em Farenheit:'))\n",
    "\n",
    "celcius = 5 * ((farenheit-32) /9)\n",
    "\n",
    "print(f'A Temperatura em Celcius será de: {celcius:.1f} Graus')"
   ]
  },
  {
   "cell_type": "code",
   "execution_count": null,
   "metadata": {},
   "outputs": [],
   "source": [
    "#Faça um Programa que peça a temperatura em graus Celsius, transforme e mostre em graus Fahrenheit.\n",
    "\n",
    "temperatura_C = float(input('Qual a temperatura em celsius?'))\n",
    "\n",
    "temperatura_F = temperatura_C * 1.8 + 32\n",
    "\n",
    "print(f'A temperatura em farenheit será de: {temperatura_F:.1f}')"
   ]
  },
  {
   "cell_type": "code",
   "execution_count": 4,
   "metadata": {},
   "outputs": [
    {
     "name": "stdout",
     "output_type": "stream",
     "text": [
      "O produto do dobro do primeiro com metade do segundo é igual a: 110.0\n",
      "A soma do triplo do primeiro com o terceiro é igual a: 130.99\n",
      "O terceiro elevado ao cubo é igual a: 1327.373299\n"
     ]
    }
   ],
   "source": [
    "#Faça um Programa que peça 2 números inteiros e um número real. Calcule e mostre:\n",
    "#o produto do dobro do primeiro com metade do segundo .\n",
    "#a soma do triplo do primeiro com o terceiro.\n",
    "#o terceiro elevado ao cubo.\n",
    "\n",
    "# Coletando os Números\n",
    "numero1 = int(input('Qual o primeiro número inteiro?'))\n",
    "numero2 = int(input('Qual o segundo número inteiro?'))\n",
    "numero3 = float(input('Qual o primeiro número Real??'))\n",
    "\n",
    "# Criando as fórmulas com base no enunciado \n",
    "request1 = (numero1 * 2) + numero2 / 2\n",
    "request2 = (numero1 * 3) + numero3\n",
    "request3 = numero3 **3 \n",
    "\n",
    "# Exibindo os resultados \n",
    "print(f'O produto do dobro do primeiro com metade do segundo é igual a: {request1}')\n",
    "print(f'A soma do triplo do primeiro com o terceiro é igual a: {request2}')\n",
    "print(f'O terceiro elevado ao cubo é igual a: {request3}')\n"
   ]
  },
  {
   "cell_type": "code",
   "execution_count": 8,
   "metadata": {},
   "outputs": [
    {
     "name": "stdout",
     "output_type": "stream",
     "text": [
      "O peso recomendado é igual a: 58.32000000000001Kg\n"
     ]
    }
   ],
   "source": [
    "#Tendo como dados de entrada a altura de uma pessoa, construa um algoritmo que calcule seu peso ideal.\n",
    "\n",
    "# Coletando altura\n",
    "altura = float(input('Qual a Altura ?'))\n",
    "\n",
    "# Formula Imc para calculo do peso recomendado\n",
    "formula_imc = (72.7 * altura) - 58\n",
    "\n",
    "# Exibição do peso recomendado\n",
    "print(f'O peso recomendado é igual a: {formula_imc}Kg')"
   ]
  },
  {
   "cell_type": "code",
   "execution_count": 15,
   "metadata": {},
   "outputs": [
    {
     "name": "stdout",
     "output_type": "stream",
     "text": [
      "Sexo inválido, Por favor, insira 'M' para Masculino ou 'F' para Feminino.\n"
     ]
    }
   ],
   "source": [
    "#Tendo como dado de entrada a altura (h) de uma pessoa, construa um algoritmo que calcule seu peso ideal, utilizando as seguintes fórmulas:\n",
    "#Para homens: (72.7*h) - 58\n",
    "#Para mulheres: (62.1*h) - 44.7\n",
    "\n",
    "#Coletando dados\n",
    "altura = float(input('Qual sua altura?'))\n",
    "sexo = str(input('Qual o seu sexo? (M = Masculino | F = Feminino)'))\n",
    "\n",
    "# Função calculando peso ideal\n",
    "def peso_ideal(altura, sexo):\n",
    "    if sexo == \"M\":\n",
    "        peso_M = (72.7 * altura) - 58\n",
    "        print(f'Seu peso ideal é: {peso_M}kg')\n",
    "        \n",
    "    elif sexo == 'F':\n",
    "        peso_f = (62.1 * altura) - 44.7\n",
    "        print(f'Seu peso ideal é: {peso_f}kg')\n",
    "        \n",
    "    else:\n",
    "        print(\"Sexo inválido, Por favor, insira 'M' para Masculino ou 'F' para Feminino.\")\n",
    "        \n",
    "# Apresentando resultados       \n",
    "peso_ideal(altura, sexo)\n",
    "\n",
    "\n",
    "\n"
   ]
  },
  {
   "cell_type": "code",
   "execution_count": null,
   "metadata": {},
   "outputs": [],
   "source": [
    "#João Papo-de-Pescador, homem de bem, comprou um microcomputador para controlar o rendimento diário de seu trabalho. Toda vez que ele traz um peso de peixes maior que o estabelecido pelo regulamento de pesca do estado de São Paulo (50 quilos) deve pagar uma multa de R$ 4,00 por quilo excedente. João precisa que você faça um programa que leia a variável peso (peso de peixes) e calcule o excesso. Gravar na variável excesso a quantidade de quilos além do limite e na variável multa o valor da multa que João deverá pagar. Imprima os dados do programa com as mensagens adequadas."
   ]
  },
  {
   "cell_type": "code",
   "execution_count": null,
   "metadata": {},
   "outputs": [],
   "source": [
    "#Faça um Programa que pergunte quanto você ganha por hora e o número de horas trabalhadas no mês. Calcule e mostre o total do seu salário no referido mês, sabendo-se que são descontados 11% para o Imposto de Renda, 8% para o INSS e 5% para o sindicato, faça um programa que nos dê:\n",
    "#salário bruto.\n",
    "#quanto pagou ao INSS.\n",
    "#quanto pagou ao sindicato.\n",
    "#o salário líquido.\n",
    "#calcule os descontos e o salário líquido, conforme a tabela abaixo:\n",
    "#+ Salário Bruto : R$\n",
    "#- IR (11%) : R$\n",
    "#- INSS (8%) : R$\n",
    "#- Sindicato ( 5%) : R$\n",
    "#= Salário Liquido : R$\n",
    "\n",
    "#Obs.: Salário Bruto - Descontos = Salário Líquido."
   ]
  },
  {
   "cell_type": "code",
   "execution_count": null,
   "metadata": {},
   "outputs": [],
   "source": [
    "#Faça um programa para uma loja de tintas. O programa deverá pedir o tamanho em metros quadrados da área a ser pintada. Considere que a cobertura da tinta é de 1 litro para cada 3 metros quadrados e que a tinta é vendida em latas de 18 litros, que custam R$ 80,00. Informe ao usuário a quantidades de latas de tinta a serem compradas e o preço total."
   ]
  },
  {
   "cell_type": "code",
   "execution_count": null,
   "metadata": {},
   "outputs": [],
   "source": [
    "#Faça um Programa para uma loja de tintas. O programa deverá pedir o tamanho em metros quadrados da área a ser pintada. Considere que a cobertura da tinta é de 1 litro para cada 6 metros quadrados e que a tinta é vendida em latas de 18 litros, que custam R$ 80,00 ou em galões de 3,6 litros, que custam R$ 25,00.\n",
    "#Informe ao usuário as quantidades de tinta a serem compradas e os respectivos preços em 3 situações:\n",
    "#comprar apenas latas de 18 litros;\n",
    "#comprar apenas galões de 3,6 litros;\n",
    "#misturar latas e galões, de forma que o desperdício de tinta seja menor. Acrescente 10% de folga e sempre arredonde os valores para cima, isto é, considere latas cheias."
   ]
  },
  {
   "cell_type": "code",
   "execution_count": null,
   "metadata": {},
   "outputs": [],
   "source": [
    "#Faça um programa que peça o tamanho de um arquivo para download (em MB) e a velocidade de um link de Internet (em Mbps), calcule e informe o tempo aproximado de download do arquivo usando este link (em minutos)."
   ]
  }
 ],
 "metadata": {
  "kernelspec": {
   "display_name": "Python 3",
   "language": "python",
   "name": "python3"
  },
  "language_info": {
   "codemirror_mode": {
    "name": "ipython",
    "version": 3
   },
   "file_extension": ".py",
   "mimetype": "text/x-python",
   "name": "python",
   "nbconvert_exporter": "python",
   "pygments_lexer": "ipython3",
   "version": "3.11.7"
  }
 },
 "nbformat": 4,
 "nbformat_minor": 2
}
