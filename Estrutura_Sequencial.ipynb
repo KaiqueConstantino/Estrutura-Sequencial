{
 "cells": [
  {
   "cell_type": "code",
   "execution_count": 4,
   "metadata": {},
   "outputs": [],
   "source": [
    "import numpy as np\n",
    "import math as mth \n"
   ]
  },
  {
   "cell_type": "code",
   "execution_count": null,
   "metadata": {},
   "outputs": [],
   "source": [
    "\"Faça um Programa que mostre a mensagem Alo mundo na tela.\"\n",
    "print(\"alo mundo\")"
   ]
  },
  {
   "cell_type": "code",
   "execution_count": null,
   "metadata": {},
   "outputs": [],
   "source": [
    "#Faça um Programa que peça um número e então mostre a mensagem O número informado foi [número].\n",
    "\n",
    "numero = int(input(\"Informe o Número\"))\n",
    "print(f'O número informado foi {numero} ')"
   ]
  },
  {
   "cell_type": "code",
   "execution_count": null,
   "metadata": {},
   "outputs": [],
   "source": [
    "#Faça um Programa que peça dois números e imprima a soma.\n",
    "numero1 = int(input('Qual o primeiro número?'))\n",
    "numero2 = int(input('Qual o segundo número?'))\n",
    "print(numero1 + numero2)"
   ]
  },
  {
   "cell_type": "code",
   "execution_count": null,
   "metadata": {},
   "outputs": [],
   "source": [
    "#Faça um Programa que peça as 4 notas bimestrais e mostre a média\n",
    "nota1 = float(input('Qual a primeira nota?'))\n",
    "nota2 = float(input('Qual a segunda nota?'))\n",
    "nota3 = float(input('Qual a terceira nota?'))\n",
    "nota4 = float(input('Qual a quarta nota'))\n",
    "\n",
    "media = (nota1+ nota2+ nota3 + nota4) /4\n",
    "\n",
    "print(f'A média do aluno é {media}')\n",
    "\n"
   ]
  },
  {
   "cell_type": "code",
   "execution_count": null,
   "metadata": {},
   "outputs": [],
   "source": [
    "#Faça um Programa que converta metros para centímetros.\n",
    "\n",
    "medida = float(input('Qual é a medida em metros?'))\n",
    "centimetros = medida * 100 \n",
    "print(f'A medida de metros para centimetros é: {centimetros} cm')"
   ]
  },
  {
   "cell_type": "code",
   "execution_count": null,
   "metadata": {},
   "outputs": [],
   "source": [
    "#Faça um Programa que peça o raio de um círculo, calcule e mostre sua área.\n",
    "\n",
    "raio = float(input('Qual o raio do Circulo?'))\n",
    "area = np.pi * raio**2\n",
    "\n",
    "print(f'A área do circulo é igual a: {area}') # Opção 1\n",
    "\n",
    "print('A área do círculo é igual a: {:.2f}'.format(area)) # Opção 2\n",
    "\n"
   ]
  },
  {
   "cell_type": "code",
   "execution_count": null,
   "metadata": {},
   "outputs": [],
   "source": [
    "#Faça um Programa que calcule a área de um quadrado, em seguida mostre o dobro desta área para o usuário.\n",
    "\n",
    "lados = int(input('Qual a medida dos lados do Quadrado?'))\n",
    "\n",
    "area_quadrado = lados**2\n",
    "\n",
    "print(area_quadrado * 2)"
   ]
  },
  {
   "cell_type": "code",
   "execution_count": null,
   "metadata": {},
   "outputs": [],
   "source": [
    "#Faça um Programa que pergunte quanto você ganha por hora e o número de horas trabalhadas no mês. Calcule e mostre o total do seu salário no referido mês\n",
    "\n",
    "ganho = float(input('Quanto recebe por hora ? '))\n",
    "horas = int(input('Quantas horas trabalhadas no mês'))\n",
    "\n",
    "\n",
    "salario = horas * ganho\n",
    "\n",
    "print(f'O salário do funcionário será de: R${salario}')\n",
    "\n"
   ]
  },
  {
   "cell_type": "code",
   "execution_count": null,
   "metadata": {},
   "outputs": [],
   "source": [
    "#Faça um Programa que peça a temperatura em graus Fahrenheit, transforme e mostre a temperatura em graus Celsius.\n",
    "#C = 5 * ((F-32) / 9).\n",
    "\n",
    "\n",
    "farenheit = float(input('Temperatura em Farenheit:'))\n",
    "\n",
    "celcius = 5 * ((farenheit-32) /9)\n",
    "\n",
    "print(f'A Temperatura em Celcius será de: {celcius:.1f} Graus')"
   ]
  },
  {
   "cell_type": "code",
   "execution_count": null,
   "metadata": {},
   "outputs": [],
   "source": [
    "#Faça um Programa que peça a temperatura em graus Celsius, transforme e mostre em graus Fahrenheit.\n",
    "\n",
    "temperatura_C = float(input('Qual a temperatura em celsius?'))\n",
    "\n",
    "temperatura_F = temperatura_C * 1.8 + 32\n",
    "\n",
    "print(f'A temperatura em farenheit será de: {temperatura_F:.1f}')"
   ]
  },
  {
   "cell_type": "code",
   "execution_count": 4,
   "metadata": {},
   "outputs": [
    {
     "name": "stdout",
     "output_type": "stream",
     "text": [
      "O produto do dobro do primeiro com metade do segundo é igual a: 110.0\n",
      "A soma do triplo do primeiro com o terceiro é igual a: 130.99\n",
      "O terceiro elevado ao cubo é igual a: 1327.373299\n"
     ]
    }
   ],
   "source": [
    "#Faça um Programa que peça 2 números inteiros e um número real. Calcule e mostre:\n",
    "#o produto do dobro do primeiro com metade do segundo .\n",
    "#a soma do triplo do primeiro com o terceiro.\n",
    "#o terceiro elevado ao cubo.\n",
    "\n",
    "# Coletando os Números\n",
    "numero1 = int(input('Qual o primeiro número inteiro?'))\n",
    "numero2 = int(input('Qual o segundo número inteiro?'))\n",
    "numero3 = float(input('Qual o primeiro número Real??'))\n",
    "\n",
    "# Criando as fórmulas com base no enunciado \n",
    "request1 = (numero1 * 2) + numero2 / 2\n",
    "request2 = (numero1 * 3) + numero3\n",
    "request3 = numero3 **3 \n",
    "\n",
    "# Exibindo os resultados \n",
    "print(f'O produto do dobro do primeiro com metade do segundo é igual a: {request1}')\n",
    "print(f'A soma do triplo do primeiro com o terceiro é igual a: {request2}')\n",
    "print(f'O terceiro elevado ao cubo é igual a: {request3}')\n"
   ]
  },
  {
   "cell_type": "code",
   "execution_count": 2,
   "metadata": {},
   "outputs": [
    {
     "name": "stdout",
     "output_type": "stream",
     "text": [
      "O peso recomendado é igual a: 59.04700000000001Kg\n"
     ]
    }
   ],
   "source": [
    "#Tendo como dados de entrada a altura de uma pessoa, construa um algoritmo que calcule seu peso ideal.\n",
    "\n",
    "# Coletando altura\n",
    "altura = float(input('Qual a Altura ?'))\n",
    "\n",
    "# Formula Imc para calculo do peso recomendado\n",
    "formula_imc = (72.7 * altura) - 58\n",
    "\n",
    "# Exibição do peso recomendado\n",
    "print(f'O peso recomendado é igual a: {formula_imc}Kg')"
   ]
  },
  {
   "cell_type": "code",
   "execution_count": 3,
   "metadata": {},
   "outputs": [
    {
     "name": "stdout",
     "output_type": "stream",
     "text": [
      "Seu peso ideal é: 80.857kg\n"
     ]
    }
   ],
   "source": [
    "#Tendo como dado de entrada a altura (h) de uma pessoa, construa um algoritmo que calcule seu peso ideal, utilizando as seguintes fórmulas:\n",
    "#Para homens: (72.7*h) - 58\n",
    "#Para mulheres: (62.1*h) - 44.7\n",
    "\n",
    "#Coletando dados\n",
    "altura = float(input('Qual sua altura?'))\n",
    "sexo = str(input('Qual o seu sexo? (M = Masculino | F = Feminino)'))\n",
    "\n",
    "# Função calculando peso ideal\n",
    "def peso_ideal(altura, sexo):\n",
    "    if sexo == \"M\":\n",
    "        peso_M = (72.7 * altura) - 58\n",
    "        print(f'Seu peso ideal é: {peso_M}kg')\n",
    "        \n",
    "    elif sexo == 'F':\n",
    "        peso_f = (62.1 * altura) - 44.7\n",
    "        print(f'Seu peso ideal é: {peso_f}kg')\n",
    "        \n",
    "    else:\n",
    "        print(\"Sexo inválido, Por favor, insira 'M' para Masculino ou 'F' para Feminino.\")\n",
    "        \n",
    "# Apresentando resultados       \n",
    "peso_ideal(altura, sexo)\n",
    "\n",
    "\n",
    "\n",
    "\n",
    "\n"
   ]
  },
  {
   "cell_type": "code",
   "execution_count": 5,
   "metadata": {},
   "outputs": [
    {
     "name": "stdout",
     "output_type": "stream",
     "text": [
      "Peso dos peixes: 200.0Kg\n",
      "Excesso de Peso: 150.0Kg\n",
      "Valor a pagar de multa: R$600.0\n"
     ]
    }
   ],
   "source": [
    "#João Papo-de-Pescador, homem de bem, comprou um microcomputador para controlar o rendimento diário de seu trabalho. Toda vez que ele traz um peso de peixes \n",
    "# maior que o estabelecido pelo regulamento de pesca do estado de São Paulo (50 quilos) deve pagar uma multa de R$ 4,00 por quilo excedente. João precisa que você faça um programa que \n",
    "# leia a variável peso (peso de peixes) e calcule o excesso. Gravar na variável excesso a quantidade de quilos além do limite e na variável multa o valor da multa que João deverá pagar. \n",
    "# Imprima os dados do programa com as mensagens adequadas.\n",
    "\n",
    "# Constantes\n",
    "limite_de_peso = 50.00\n",
    "multa = 4.00\n",
    "\n",
    "# Coleta de dados do usuário \n",
    "peso_peixes = float(input('Qual o peso do pescado?'))\n",
    "\n",
    "# Cálculo do excesso da multa\n",
    "if peso_peixes > limite_de_peso:\n",
    "    excesso = peso_peixes - limite_de_peso\n",
    "    multa = excesso * multa\n",
    "else:\n",
    "    excesso = 0\n",
    "    multa = 0\n",
    "    \n",
    "\n",
    "# Saída dos dados\n",
    "print(f\"Peso dos peixes: {peso_peixes}Kg\")\n",
    "if excesso > 0: \n",
    "    print(f'Excesso de Peso: {excesso}Kg')\n",
    "    print(f'Valor a pagar de multa: R${multa}')\n",
    "else: \n",
    "    print(f'Não houve excesso de peso, portanto, sem multa.')"
   ]
  },
  {
   "cell_type": "code",
   "execution_count": 10,
   "metadata": {},
   "outputs": [
    {
     "name": "stdout",
     "output_type": "stream",
     "text": [
      "O salário bruto foi: R$100.0\n",
      "Valor pago ao INSS: R$8.0\n",
      "O imposto pago ao Sindicato: R$5.0\n",
      "Valor pago Ao IR: R$11.0\n",
      "Salário líquido a ser recebido: R$76.0\n"
     ]
    }
   ],
   "source": [
    "#Faça um Programa que pergunte quanto você ganha por hora e o número de horas trabalhadas no mês. \n",
    "# Calcule e mostre o total do seu salário no referido mês, sabendo-se que são descontados 11% para o Imposto de Renda, 8% para o INSS e 5% para o sindicato, faça um programa que nos dê:\n",
    "# - salário bruto.\n",
    "# - quanto pagou ao INSS.\n",
    "# - quanto pagou ao sindicato.\n",
    "# - o salário líquido.\n",
    "# - calcule os descontos e o salário líquido, conforme a tabela abaixo:\n",
    "# + Salário Bruto : R$\n",
    "# - IR (11%) : R$\n",
    "# - INSS (8%) : R$\n",
    "# -  Sindicato ( 5%) : R$\n",
    "# = Salário Liquido : R$\n",
    "\n",
    "#Obs.: Salário Bruto - Descontos = Salário Líquido.\n",
    "\n",
    "\n",
    "# Coleta de dados\n",
    "salario_bruto = float(input('Quanto ganha por hora?'))\n",
    "horas_trabalhadas = float(input('Qual a carga horária mensal ? '))\n",
    "\n",
    "# Salário Bruto\n",
    "salario_bruto_total = horas_trabalhadas * salario_bruto\n",
    "\n",
    "# Definição dos impostos\n",
    "imposto_inss = salario_bruto_total * 0.08\n",
    "imposto_ir = salario_bruto_total * 0.11\n",
    "imposto_sindicato = salario_bruto_total * 0.05\n",
    "\n",
    "# Cálculo do salário líquido\n",
    "total_descontos = imposto_inss + imposto_ir + imposto_sindicato\n",
    "salario_liquido = salario_bruto_total - total_descontos\n",
    "\n",
    "\n",
    "# Saída dos dados\n",
    "print(f'O salário bruto foi: R${salario_bruto_total}')\n",
    "print(f'Valor pago ao INSS: R${imposto_inss}')\n",
    "print(f'O imposto pago ao Sindicato: R${imposto_sindicato}')\n",
    "print(f'Valor pago Ao IR: R${imposto_ir}')\n",
    "print(f'Salário líquido a ser recebido: R${salario_liquido}')\n",
    "\n",
    "\n",
    "\n"
   ]
  },
  {
   "cell_type": "code",
   "execution_count": 5,
   "metadata": {},
   "outputs": [
    {
     "name": "stdout",
     "output_type": "stream",
     "text": [
      "Você precisara de 1 latas de tinta.\n",
      "O preço total será de R$80.0\n"
     ]
    }
   ],
   "source": [
    "#Faça um programa para uma loja de tintas. O programa deverá pedir o tamanho em metros quadrados da área a ser pintada.\n",
    "# Considere que a cobertura da tinta é de 1 litro para cada 3 metros quadrados e que a tinta é vendida em latas de 18 litros, que custam R$ 80,00. \n",
    "# Informe ao usuário a quantidades de latas de tinta a serem compradas e o preço total.\n",
    "\n",
    "# Dados do problema\n",
    "cobertura_por_litro = 3\n",
    "litros_por_lata = 18\n",
    "preco_por_lata = 80.00\n",
    "\n",
    "# Coleta de dados do usuário\n",
    "area_a_ser_pintada = float(input('Qual o tamanho em metros da área a ser pintada?'))\n",
    "\n",
    "\n",
    "# Cálculo da quantidade de tinta necessária\n",
    "litros_nessesarios = area_a_ser_pintada / cobertura_por_litro\n",
    "\n",
    "# Cálculo da quantidade de latas necessárias\n",
    "import math\n",
    "latas_necessarias = math.ceil(litros_nessesarios / preco_por_lata)\n",
    "\n",
    "\n",
    "# Cálculo do preço total\n",
    "preco_total = latas_necessarias * preco_por_lata\n",
    "\n",
    "\n",
    "# Apresentar Resultado\n",
    "print(f'Você precisara de {latas_necessarias} latas de tinta.')\n",
    "print(f'O preço total será de R${preco_total}')\n",
    "\n"
   ]
  },
  {
   "cell_type": "code",
   "execution_count": 6,
   "metadata": {},
   "outputs": [
    {
     "name": "stdout",
     "output_type": "stream",
     "text": [
      "\n",
      "Para pintar uma área de 22.00 metros quadrados (com 10% de folga):\n",
      "\n",
      "1. Comprando apenas latas de 18 litros:\n",
      "   - Latas necessárias: 1\n",
      "   - Preço total: R$ 80.00\n",
      "\n",
      "2. Comprando apenas galões de 3,6 litros:\n",
      "   - Galões necessários: 2\n",
      "   - Preço total: R$ 50.00\n",
      "\n",
      "3. Misturando latas e galões:\n",
      "   - Latas necessárias: 0\n",
      "   - Galões necessários: 2\n",
      "   - Preço total: R$ 50.00\n"
     ]
    }
   ],
   "source": [
    "#Faça um Programa para uma loja de tintas. O programa deverá pedir o tamanho em metros quadrados da área a ser pintada. \n",
    "#Considere que a cobertura da tinta é de 1 litro para cada 6 metros quadrados e que a tinta é vendida em latas de 18 litros, que custam R$ 80,00 ou em galões de 3,6 litros, que custam R$ 25,00.\n",
    "#Informe ao usuário as quantidades de tinta a serem compradas e os respectivos preços em 3 situações:\n",
    "#comprar apenas latas de 18 litros;\n",
    "#comprar apenas galões de 3,6 litros;\n",
    "#misturar latas e galões, de forma que o desperdício de tinta seja menor. Acrescente 10% de folga e sempre arredonde os valores para cima, isto é, considere latas cheias.\n",
    "\n",
    "\n",
    "\n",
    "cobertura_por_litro = 6\n",
    "litros_por_lata = 18\n",
    "preco_por_lata = 80.00\n",
    "\n",
    "preco_por_galao = 25.00\n",
    "litros_por_galao = 3.6\n",
    "\n",
    "# Coleta de dados do usuário\n",
    "area_a_ser_pintada = float(input('Qual o tamanho em metros da área a ser pintada?'))\n",
    "\n",
    "# 10% de folga\n",
    "area_a_ser_pintada *= 1.1\n",
    "\n",
    "#Quantidade de tinta nessesária\n",
    "litros_necessarios = area_a_ser_pintada / cobertura_por_litro\n",
    "\n",
    "# Situação 1: Apenas latas de 18 litros\n",
    "latas_necessarias = math.ceil(litros_necessarios / litros_por_lata)\n",
    "preco_total_latas = latas_necessarias * preco_por_lata\n",
    "\n",
    "# Situação 2: Apenas galões de 3,6 litros\n",
    "galoes_necessarios = math.ceil(litros_necessarios / litros_por_galao)\n",
    "preco_total_galoes = galoes_necessarios * preco_por_galao\n",
    "\n",
    "# Situação 3: Mistura de latas e galões\n",
    "latas_necessarias_mistura = math.floor(litros_necessarios / litros_por_lata)\n",
    "resto_litros = litros_necessarios % litros_por_lata\n",
    "galoes_necessarios_mistura = math.ceil(resto_litros / litros_por_galao)\n",
    "preco_total_mistura = (latas_necessarias_mistura * preco_por_lata) + (galoes_necessarios_mistura * preco_por_galao)\n",
    "\n",
    "# Mostrar os resultados\n",
    "print(f'\\nPara pintar uma área de {area_a_ser_pintada:.2f} metros quadrados (com 10% de folga):')\n",
    "print(f'\\n1. Comprando apenas latas de 18 litros:')\n",
    "print(f'   - Latas necessárias: {latas_necessarias}')\n",
    "print(f'   - Preço total: R$ {preco_total_latas:.2f}')\n",
    "\n",
    "print(f'\\n2. Comprando apenas galões de 3,6 litros:')\n",
    "print(f'   - Galões necessários: {galoes_necessarios}')\n",
    "print(f'   - Preço total: R$ {preco_total_galoes:.2f}')\n",
    "\n",
    "print(f'\\n3. Misturando latas e galões:')\n",
    "print(f'   - Latas necessárias: {latas_necessarias_mistura}')\n",
    "print(f'   - Galões necessários: {galoes_necessarios_mistura}')\n",
    "print(f'   - Preço total: R$ {preco_total_mistura:.2f}')"
   ]
  },
  {
   "cell_type": "code",
   "execution_count": 8,
   "metadata": {},
   "outputs": [
    {
     "name": "stdout",
     "output_type": "stream",
     "text": [
      "O tempo aproximado de download do arquivo é de 6.67 minutos.\n"
     ]
    }
   ],
   "source": [
    "#Faça um programa que peça o tamanho de um arquivo para download (em MB) e a velocidade de um link de Internet (em Mbps), calcule e informe o tempo aproximado de download do arquivo usando este link (em minutos).\n",
    "\n",
    "\n",
    "# Solicita o tamanho do arquivo e a velocidade de internet\n",
    "tamanho_arquivo_MB = float(input('Qual é o tamanho do arquivo para download em Mb ? '))\n",
    "velocidade_internet_Mbps = float(input('Qual sua velocidade de Internet? '))\n",
    "\n",
    "\n",
    "# Velocidade de internet para para MBps \n",
    "velocidade_internet_MBps = velocidade_internet_Mbps / 8\n",
    "\n",
    "# Calcula o tempo de download \n",
    "tempo_download_segundos = tamanho_arquivo_MB / velocidade_internet_MBps\n",
    "\n",
    "# Tempo de download para minutos\n",
    "tempo_download_minutos = tempo_download_segundos / 60\n",
    "\n",
    "# Exibe o tempo aproximado\n",
    "print(f'O tempo aproximado de download do arquivo é de {tempo_download_minutos:.2f} minutos.')\n"
   ]
  }
 ],
 "metadata": {
  "kernelspec": {
   "display_name": "Python 3",
   "language": "python",
   "name": "python3"
  },
  "language_info": {
   "codemirror_mode": {
    "name": "ipython",
    "version": 3
   },
   "file_extension": ".py",
   "mimetype": "text/x-python",
   "name": "python",
   "nbconvert_exporter": "python",
   "pygments_lexer": "ipython3",
   "version": "3.11.7"
  }
 },
 "nbformat": 4,
 "nbformat_minor": 2
}
